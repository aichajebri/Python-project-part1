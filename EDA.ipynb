{
 "cells": [
  {
   "cell_type": "code",
   "execution_count": 2,
   "id": "initial_id",
   "metadata": {
    "collapsed": true,
    "ExecuteTime": {
     "end_time": "2025-04-09T17:22:57.165114700Z",
     "start_time": "2025-04-09T17:22:53.954866300Z"
    }
   },
   "outputs": [],
   "source": [
    "import pandas as pd\n",
    "from dash import Dash, dcc, html\n",
    "import plotly.express as px"
   ]
  },
  {
   "cell_type": "code",
   "outputs": [],
   "source": [
    "df = pd.read_csv(\"annonces_tunisie_2025.csv\")"
   ],
   "metadata": {
    "collapsed": false,
    "ExecuteTime": {
     "end_time": "2025-04-09T17:23:46.297852700Z",
     "start_time": "2025-04-09T17:23:46.138719Z"
    }
   },
   "id": "db01cf9a5d182f6a",
   "execution_count": 4
  },
  {
   "cell_type": "code",
   "outputs": [
    {
     "data": {
      "text/plain": "                           Titre  \\\n0       Duplex s3 avec piscine a   \n1  Terrain 558 à cite le présida   \n2  Pour fonctionnaires ou étudia   \n3          Villa pour tout usage   \n4               Sortie sud tunis   \n\n                                                Lien             Adresse  \\\n0  http://www.tunisie-annonce.com/DetailsAnnonceI...          Non trouvé   \n1  http://www.tunisie-annonce.com/DetailsAnnonceI...          Non trouvé   \n2  http://www.tunisie-annonce.com/DetailsAnnonceI...          Non trouvé   \n3  http://www.tunisie-annonce.com/DetailsAnnonceI...         face sodexo   \n4  http://www.tunisie-annonce.com/DetailsAnnonceI...  fin av de carthage   \n\n                           Prix Surface  \\\n0    5 000 Dinar Tunisien (TND)    1 m²   \n1  350 000 Dinar Tunisien (TND)  558 m²   \n2      280 Dinar Tunisien (TND)   45 m²   \n3    4 500 Dinar Tunisien (TND)  350 m²   \n4      650 Dinar Tunisien (TND)   80 m²   \n\n                                         Description Modifiée le  \\\n0  on vous propose à la location un duplex s3 ave...  22/03/2025   \n1  un terrain constructible à al-mnihla, à proxim...  22/03/2025   \n2  à louer 1 studio composé de 2 chambres cuisine...  22/03/2025   \n3  a louer.\\rvilla 5 pièces cuisine 2 salle d'eau...  22/03/2025   \n4                  hall 3 pieces kichinette toilette  22/03/2025   \n\n           Contact  \n0  +216 52 642 330  \n1  +216 93 256 300  \n2  +216 98 379 347  \n3         28652441  \n4         24976116  ",
      "text/html": "<div>\n<style scoped>\n    .dataframe tbody tr th:only-of-type {\n        vertical-align: middle;\n    }\n\n    .dataframe tbody tr th {\n        vertical-align: top;\n    }\n\n    .dataframe thead th {\n        text-align: right;\n    }\n</style>\n<table border=\"1\" class=\"dataframe\">\n  <thead>\n    <tr style=\"text-align: right;\">\n      <th></th>\n      <th>Titre</th>\n      <th>Lien</th>\n      <th>Adresse</th>\n      <th>Prix</th>\n      <th>Surface</th>\n      <th>Description</th>\n      <th>Modifiée le</th>\n      <th>Contact</th>\n    </tr>\n  </thead>\n  <tbody>\n    <tr>\n      <th>0</th>\n      <td>Duplex s3 avec piscine a</td>\n      <td>http://www.tunisie-annonce.com/DetailsAnnonceI...</td>\n      <td>Non trouvé</td>\n      <td>5 000 Dinar Tunisien (TND)</td>\n      <td>1 m²</td>\n      <td>on vous propose à la location un duplex s3 ave...</td>\n      <td>22/03/2025</td>\n      <td>+216 52 642 330</td>\n    </tr>\n    <tr>\n      <th>1</th>\n      <td>Terrain 558 à cite le présida</td>\n      <td>http://www.tunisie-annonce.com/DetailsAnnonceI...</td>\n      <td>Non trouvé</td>\n      <td>350 000 Dinar Tunisien (TND)</td>\n      <td>558 m²</td>\n      <td>un terrain constructible à al-mnihla, à proxim...</td>\n      <td>22/03/2025</td>\n      <td>+216 93 256 300</td>\n    </tr>\n    <tr>\n      <th>2</th>\n      <td>Pour fonctionnaires ou étudia</td>\n      <td>http://www.tunisie-annonce.com/DetailsAnnonceI...</td>\n      <td>Non trouvé</td>\n      <td>280 Dinar Tunisien (TND)</td>\n      <td>45 m²</td>\n      <td>à louer 1 studio composé de 2 chambres cuisine...</td>\n      <td>22/03/2025</td>\n      <td>+216 98 379 347</td>\n    </tr>\n    <tr>\n      <th>3</th>\n      <td>Villa pour tout usage</td>\n      <td>http://www.tunisie-annonce.com/DetailsAnnonceI...</td>\n      <td>face sodexo</td>\n      <td>4 500 Dinar Tunisien (TND)</td>\n      <td>350 m²</td>\n      <td>a louer.\\rvilla 5 pièces cuisine 2 salle d'eau...</td>\n      <td>22/03/2025</td>\n      <td>28652441</td>\n    </tr>\n    <tr>\n      <th>4</th>\n      <td>Sortie sud tunis</td>\n      <td>http://www.tunisie-annonce.com/DetailsAnnonceI...</td>\n      <td>fin av de carthage</td>\n      <td>650 Dinar Tunisien (TND)</td>\n      <td>80 m²</td>\n      <td>hall 3 pieces kichinette toilette</td>\n      <td>22/03/2025</td>\n      <td>24976116</td>\n    </tr>\n  </tbody>\n</table>\n</div>"
     },
     "execution_count": 5,
     "metadata": {},
     "output_type": "execute_result"
    }
   ],
   "source": [
    "df.head()"
   ],
   "metadata": {
    "collapsed": false,
    "ExecuteTime": {
     "end_time": "2025-04-09T17:23:57.965366200Z",
     "start_time": "2025-04-09T17:23:57.885184800Z"
    }
   },
   "id": "8c11c38cfd4b20a9",
   "execution_count": 5
  },
  {
   "cell_type": "code",
   "outputs": [],
   "source": [],
   "metadata": {
    "collapsed": false
   },
   "id": "46de9dced567f2e4"
  }
 ],
 "metadata": {
  "kernelspec": {
   "display_name": "Python 3",
   "language": "python",
   "name": "python3"
  },
  "language_info": {
   "codemirror_mode": {
    "name": "ipython",
    "version": 2
   },
   "file_extension": ".py",
   "mimetype": "text/x-python",
   "name": "python",
   "nbconvert_exporter": "python",
   "pygments_lexer": "ipython2",
   "version": "2.7.6"
  }
 },
 "nbformat": 4,
 "nbformat_minor": 5
}
